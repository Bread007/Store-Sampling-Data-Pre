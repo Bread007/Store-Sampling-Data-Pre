{
 "cells": [
  {
   "cell_type": "markdown",
   "metadata": {},
   "source": [
    "#### Merge 2 sets of Metrics and Store information to 1 data set\n",
    "\n",
    "###### Metrics Set 01 --  From RGM\n",
    "- 01 OSCA (7 Stores without OSCA records)\n",
    "- 02 Sales volumn (2 Stores without sales records)\n",
    "- 03 SKU vs Book (7 Stores without SKU vs Book records)\n",
    "- 04 CFF (197 Stores without CFF records)\n",
    "\n",
    "###### Metrics Set 02 --  From AP Dashboard\n",
    "- 05 Shrink TY & LY\n",
    "\n",
    "###### Store Information Set 01 --  From AP Dashboard\n",
    "- 01 Inventory Date\n",
    "\n",
    "###### Store Information Set 01 --  Remodel \n",
    "- 02 Whether stores are remodeled during Aug. and Nov.\n",
    "\n",
    "###### Store Information Set 03 --  From Teradata: ww_core_dim_vm.store_dim\n",
    "- 03 BANNER_DESC \n",
    "- 04 REGION_NBR\n",
    "- 05 CITY_NAME\n",
    "- 06 STATE_PROV_CODE\n",
    "- 07 SUBDIV_NAME\n",
    "- 08 REGION_NAME\n",
    "- 09 MARKET_AREA_NBR\n",
    "- 10 LATITUDE_DGR\n",
    "- 11 LONGITUDE_DGR\n",
    "- 12 OPEN_DATE\n",
    "\n",
    "- ? No Division 1s: where to source the data?\n",
    "- ? Indicator that can identify whether the store has fuel\n"
   ]
  },
  {
   "cell_type": "code",
   "execution_count": 1,
   "metadata": {
    "collapsed": true
   },
   "outputs": [],
   "source": [
    "import pandas as pd\n",
    "import numpy as np\n",
    "import matplotlib.pyplot as plt\n",
    "%matplotlib inline\n",
    "\n",
    "import os"
   ]
  },
  {
   "cell_type": "code",
   "execution_count": 2,
   "metadata": {
    "collapsed": true
   },
   "outputs": [],
   "source": [
    "## Set the directory where you store the data\n",
    "## Ensure the files you are going to use are in the same folder\n",
    "os.chdir(r'C:\\Users\\t0d00dh\\01_Projects\\Combine Assurance\\2nd_Round_Sampling')"
   ]
  },
  {
   "cell_type": "code",
   "execution_count": 3,
   "metadata": {
    "collapsed": false
   },
   "outputs": [],
   "source": [
    "## Import the updated data\n",
    "## Change the names in the quotation marks if the file names are changed\n",
    "\n",
    "# till 11/30/2018,the latest RGM report only has Sep 2018 data\n",
    "metrics_RGM = pd.read_csv('RGM_092018.csv')\n",
    "\n",
    "\n",
    "# FY 19 Shrink data updated date: 11/21/2018\n",
    "######### Copy the Detail sheet to a new xlsx file, not xlsb file\n",
    "metrics_AP_2019  = pd.ExcelFile('FY19 Shrink Results Summary.xlsx').parse('Detail') \n",
    "\n",
    "# FY 18 Shrink data updated date: 02/12/2018\n",
    "metrics_AP_2018  = pd.ExcelFile('FY18 Shrink Results Summary.xlsx').parse('Detail') \n",
    "\n",
    "# From Teradata\n",
    "store_loc    = pd.ExcelFile('Store_Loc.xlsx').parse('Sheet1') \n",
    "\n",
    "# From Teradata\n",
    "store_close  = pd.ExcelFile('Store_closed Date.xlsx').parse('Sheet1') \n",
    "\n",
    "# Provided by Ops\n",
    "fuel_store = pd.ExcelFile('Store_Gas_Station_Operation.xlsx').parse('Projects')\n",
    "\n",
    "# Provided by Ops\n",
    "remodel = pd.read_csv('Remodel_07202018.csv')\n",
    "\n"
   ]
  },
  {
   "cell_type": "markdown",
   "metadata": {},
   "source": [
    "###### Consolidated Metrics contains largest amount of stores, use Consolidated Metrics as the base data to shape the new data"
   ]
  },
  {
   "cell_type": "code",
   "execution_count": 4,
   "metadata": {
    "collapsed": true
   },
   "outputs": [],
   "source": [
    "# in RGM report, SHRINKYTD represents SKU vs Book\n",
    "selected_metrics = ['SALESYTD','SHRINKYTD','OSCAYTD','CFFYTD']\n",
    "selected_RGM = metrics_RGM[metrics_RGM['metric'].isin(selected_metrics)]"
   ]
  },
  {
   "cell_type": "code",
   "execution_count": 5,
   "metadata": {
    "collapsed": true
   },
   "outputs": [],
   "source": [
    "selected_RGM  = selected_RGM .rename(columns={'﻿store': 'store'})"
   ]
  },
  {
   "cell_type": "code",
   "execution_count": 7,
   "metadata": {
    "collapsed": false
   },
   "outputs": [],
   "source": [
    "# Reshape data using metrics values\n",
    "df_1 = pd.pivot_table(selected_RGM,index = ['store'],values = ['metric_value'],columns = 'metric')\n",
    "df_1 = df_1.reset_index()\n",
    "df_1.columns = ['STORE_NBR','CFF_Value','OSCA_Value','Sales_Volume','SkuBook_Value']\n",
    "\n",
    "\n",
    "# Reshape data using metrics rank\n",
    "df_2 = pd.pivot_table(selected_RGM,index = ['store'],values = ['metric_rank'],\n",
    "                      columns = 'metric')\n",
    "df_2 = df_2.reset_index()\n",
    "df_2.columns = ['STORE_NBR','CFF_Rank_RGM','OSCA_Rank_RGM','Sales_Rank_RGM','SkuBook_Rank_RGM']\n",
    "\n",
    "# Reshape data using metric_pct_of_goal\n",
    "df_3 = pd.pivot_table(selected_RGM,index = ['store'],values = ['metric_pct_of_goal'],\n",
    "                      columns = 'metric')\n",
    "df_3 = df_3.reset_index()\n",
    "df_3.columns = ['STORE_NBR','CFF_pct2Plan','OSCA_pct2Plan','Sales_pct2Plan','SkuBook_pct2Plan']\n",
    "\n",
    "\n",
    "# merge the 3 subset of RGM metrics\n",
    "RGM_metrics = pd.merge(pd.merge(df_1,df_2),df_3)"
   ]
  },
  {
   "cell_type": "code",
   "execution_count": 8,
   "metadata": {
    "collapsed": false
   },
   "outputs": [
    {
     "ename": "NameError",
     "evalue": "name 'metrics_Con' is not defined",
     "output_type": "error",
     "traceback": [
      "\u001b[1;31m---------------------------------------------------------------------------\u001b[0m",
      "\u001b[1;31mNameError\u001b[0m                                 Traceback (most recent call last)",
      "\u001b[1;32m<ipython-input-8-7c8c8e9112ef>\u001b[0m in \u001b[0;36m<module>\u001b[1;34m()\u001b[0m\n\u001b[0;32m      1\u001b[0m \u001b[1;31m# fill null cff value\u001b[0m\u001b[1;33m\u001b[0m\u001b[1;33m\u001b[0m\u001b[0m\n\u001b[1;32m----> 2\u001b[1;33m \u001b[0mfil_w_con_bool\u001b[0m \u001b[1;33m=\u001b[0m \u001b[1;33m(\u001b[0m\u001b[0mRGM_metrics\u001b[0m\u001b[1;33m[\u001b[0m\u001b[1;34m'CFF_Value'\u001b[0m\u001b[1;33m]\u001b[0m\u001b[1;33m.\u001b[0m\u001b[0misnull\u001b[0m\u001b[1;33m(\u001b[0m\u001b[1;33m)\u001b[0m\u001b[1;33m)\u001b[0m \u001b[1;33m&\u001b[0m \u001b[0mRGM_metrics\u001b[0m\u001b[1;33m[\u001b[0m\u001b[1;34m'STORE_NBR'\u001b[0m\u001b[1;33m]\u001b[0m\u001b[1;33m.\u001b[0m\u001b[0misin\u001b[0m\u001b[1;33m(\u001b[0m\u001b[0mmetrics_Con\u001b[0m\u001b[1;33m[\u001b[0m\u001b[0mmetrics_Con\u001b[0m\u001b[1;33m[\u001b[0m\u001b[1;34m'CFF COMBINED'\u001b[0m\u001b[1;33m]\u001b[0m\u001b[1;33m.\u001b[0m\u001b[0mnotnull\u001b[0m\u001b[1;33m(\u001b[0m\u001b[1;33m)\u001b[0m\u001b[1;33m]\u001b[0m\u001b[1;33m[\u001b[0m\u001b[1;34m'STORE'\u001b[0m\u001b[1;33m]\u001b[0m\u001b[1;33m)\u001b[0m\u001b[1;33m\u001b[0m\u001b[0m\n\u001b[0m\u001b[0;32m      3\u001b[0m \u001b[0mcon_fil_bool\u001b[0m \u001b[1;33m=\u001b[0m \u001b[0mmetrics_Con\u001b[0m\u001b[1;33m[\u001b[0m\u001b[1;34m'STORE'\u001b[0m\u001b[1;33m]\u001b[0m\u001b[1;33m.\u001b[0m\u001b[0misin\u001b[0m\u001b[1;33m(\u001b[0m\u001b[0mRGM_metrics\u001b[0m\u001b[1;33m[\u001b[0m\u001b[0mfil_w_con_bool\u001b[0m\u001b[1;33m]\u001b[0m\u001b[1;33m[\u001b[0m\u001b[1;34m'STORE_NBR'\u001b[0m\u001b[1;33m]\u001b[0m\u001b[1;33m)\u001b[0m\u001b[1;33m\u001b[0m\u001b[0m\n\u001b[0;32m      4\u001b[0m \u001b[1;33m\u001b[0m\u001b[0m\n\u001b[0;32m      5\u001b[0m \u001b[1;33m\u001b[0m\u001b[0m\n",
      "\u001b[1;31mNameError\u001b[0m: name 'metrics_Con' is not defined"
     ]
    }
   ],
   "source": [
    "# fill null cff value\n",
    "fil_w_con_bool = (RGM_metrics['CFF_Value'].isnull()) & RGM_metrics['STORE_NBR'].isin(metrics_Con[metrics_Con['CFF COMBINED'].notnull()]['STORE'])\n",
    "con_fil_bool = metrics_Con['STORE'].isin(RGM_metrics[fil_w_con_bool]['STORE_NBR'])\n",
    "\n",
    "\n",
    "ix_fil_w_con = RGM_metrics[fil_w_con_bool].index\n",
    "ix_fill      = metrics_Con[con_fil_bool].sort_values(by=['STORE']).index\n",
    "\n",
    "\n",
    "\n",
    "for i in range(len(ix_fil_w_con)):\n",
    "    RGM_metrics.loc[ix_fil_w_con[i],'CFF_Value'] = metrics_Con.loc[ix_fill[i],'CFF COMBINED INDEX']*100\n",
    "   "
   ]
  },
  {
   "cell_type": "code",
   "execution_count": 9,
   "metadata": {
    "collapsed": false
   },
   "outputs": [],
   "source": [
    "# check how does RGM ranks the stores\n",
    "RGM_meth = pd.DataFrame()\n",
    "rank_type = [col for col in RGM_metrics.columns if 'Rank' in col]\n",
    "for i in range(len(rank_type)):\n",
    "    rank = pd.pivot_table(RGM_metrics,index = rank_type[i],\n",
    "                          values = [RGM_metrics.columns[RGM_metrics.columns.get_loc(rank_type[i])+4]],\n",
    "                          aggfunc={'count',np.min,np.max})\n",
    "    rank = rank.reset_index()\n",
    "    rank.columns = [rank_type[i],'Count','Min','Max']\n",
    "    rank['Interval'] = rank['Max'] - rank['Min']\n",
    "    rank.to_csv('RGM_meth.csv', mode='a', header=True,index = False)\n"
   ]
  },
  {
   "cell_type": "markdown",
   "metadata": {},
   "source": [
    "###### Add Store Information"
   ]
  },
  {
   "cell_type": "code",
   "execution_count": 10,
   "metadata": {
    "collapsed": true
   },
   "outputs": [],
   "source": [
    "store_info = pd.merge(store_loc[['STORE_NBR','OPEN_DATE','BANNER_DESC','CITY_NAME','STATE_PROV_CODE',\n",
    "                        'SUBDIV_NAME','REGION_NAME','MARKET_AREA_NBR','LATITUDE_DGR','LONGITUDE_DGR']],\n",
    "                      store_close[['STORE_NBR','CLOSE_DATE']])\n",
    "\n",
    "store_info['OPEN_DATE'] = store_info['OPEN_DATE'].apply(pd.to_datetime)\n",
    "store_info['New_Store'] = 'N' \n",
    "new_index = store_info[[store_info['OPEN_DATE'][i].year == 2018 \n",
    "                        or store_info['OPEN_DATE'][i].year == 2017 \n",
    "                        for i in range(len(store_info))]].index\n",
    "store_info.loc[new_index,'New_Store'] = 'Y'\n",
    "\n",
    "store_info['Close_Store'] = 'N' \n",
    "store_info.loc[store_info[store_info['CLOSE_DATE'] != '0001-01-01'].index,'Close_Store'] = 'Y'\n",
    "\n",
    "RGM_Loc = pd.merge(RGM_metrics,store_info,how = 'left')"
   ]
  },
  {
   "cell_type": "code",
   "execution_count": 11,
   "metadata": {
    "collapsed": false
   },
   "outputs": [],
   "source": [
    "RGM_Loc['Fuel'] = 'N'\n",
    "\n",
    "RGM_Loc.loc[RGM_Loc[RGM_Loc['STORE_NBR'].isin(fuel_store['Store#'])].index,'Fuel'] = 'Y'"
   ]
  },
  {
   "cell_type": "markdown",
   "metadata": {},
   "source": [
    "###### Merge Remodel Data"
   ]
  },
  {
   "cell_type": "code",
   "execution_count": 12,
   "metadata": {
    "collapsed": true
   },
   "outputs": [],
   "source": [
    "# Remodel from August to November\n",
    "# pd.to_datetime(remodel['Construction Start'][0]).year\n",
    "remodel['Construction Start'] = remodel['Construction Start'].apply(pd.to_datetime)\n",
    "remodel['Construction Complete'] = remodel['Construction Complete'].apply(pd.to_datetime)\n",
    "\n",
    "\n",
    "start = remodel[[remodel['Construction Start'][i].year ==2018 \n",
    "                       and remodel['Construction Start'][i].month>=8 \n",
    "                       and remodel['Construction Start'][i].month<= 11\n",
    "                       for i in range(len(remodel))]]['Store Number']\n",
    "\n",
    "complete = remodel[[remodel['Construction Complete'][i].year ==2018 \n",
    "                       and remodel['Construction Complete'][i].month>=8 \n",
    "                       and remodel['Construction Complete'][i].month<= 11\n",
    "                       for i in range(len(remodel))]]['Store Number']\n",
    "\n",
    "remodel_store = np.unique(list(start) + list(complete))\n",
    "\n",
    "RGM_Loc['remodel'] = 'N'\n",
    "RGM_Loc.loc[RGM_Loc[RGM_Loc['STORE_NBR'].isin(remodel_store)].index,'remodel'] = 'Y'"
   ]
  },
  {
   "cell_type": "markdown",
   "metadata": {},
   "source": [
    "###### Merge AP Dashboard Data"
   ]
  },
  {
   "cell_type": "code",
   "execution_count": 13,
   "metadata": {
    "collapsed": false
   },
   "outputs": [],
   "source": [
    "TY_index = metrics_AP_2019[metrics_AP_2019['TY Shrink'].notnull()].index\n",
    "LY_index = metrics_AP_2019[metrics_AP_2019['TY Shrink'].isnull() & metrics_AP_2019['LY Shrink'].notnull()].index\n",
    "No_index = set(metrics_AP_2019.index) - set(TY_index) - set(LY_index)\n",
    "\n",
    "\n",
    "metrics_AP_2019.loc[TY_index,'Shrink'] = metrics_AP_2019.loc[TY_index,'TY Shrink']\n",
    "metrics_AP_2019.loc[LY_index,'Shrink'] = metrics_AP_2019.loc[LY_index,'LY Shrink']\n",
    "\n",
    "\n",
    "metrics_AP_2019.loc[No_index,'Shrink'] = np.nan\n",
    "\n",
    "metrics_AP_2019.loc[TY_index,'Ret %'] = metrics_AP_2019.loc[TY_index,'Ret % (TY)']\n",
    "metrics_AP_2019.loc[LY_index,'Ret %'] = metrics_AP_2019.loc[LY_index,'Ret % (LY)']\n",
    "metrics_AP_2019.loc[No_index,'Ret %'] = np.nan\n",
    "\n",
    "metrics_AP_2019.loc[TY_index,'TY_LY'] = 'TY'\n",
    "metrics_AP_2019.loc[LY_index,'TY_LY'] = 'LY'\n",
    "metrics_AP_2019.loc[No_index,'TY_LY'] = np.nan\n",
    "\n",
    "\n",
    "RGM_AP_Loc = pd.merge(RGM_Loc, metrics_AP_2019[['STORE_NBR','Type','Inv Date','Shrink','Ret %','TY_LY']],\n",
    "                  how='left')\n",
    "\n"
   ]
  },
  {
   "cell_type": "code",
   "execution_count": 14,
   "metadata": {
    "collapsed": false
   },
   "outputs": [],
   "source": [
    "# If the store has no shrink record in 2019 report, use its 2018 record\n",
    "bool_RGM  = (RGM_AP_Loc['Shrink'].isnull())& (RGM_AP_Loc['STORE_NBR'].isin(metrics_AP_2018['Store']))\n",
    "bool_2018 = metrics_AP_2018['Store'].isin(RGM_AP_Loc[RGM_AP_Loc['Shrink'].isnull()]['STORE_NBR'])\n",
    "\n",
    "ix_2018  = metrics_AP_2018[bool_2018]['Store'].index\n",
    "ix_RGM  = RGM_AP_Loc[bool_RGM]['STORE_NBR'].index\n",
    "\n",
    "for i in range(len(ix_2018)):\n",
    "    RGM_AP_Loc.loc[ix_RGM[i],'Shrink'] = metrics_AP_2018.loc[ix_2018[i],'TY Shrink']\n",
    "    RGM_AP_Loc.loc[ix_RGM[i],'Ret %']  = metrics_AP_2018.loc[ix_2018[i],'Ret % (TY)']\n",
    "    RGM_AP_Loc.loc[ix_RGM[i],'TY_LY']  = 'LY'\n",
    "    RGM_AP_Loc.loc[ix_RGM[i],'Inv Date']  = metrics_AP_2018.loc[ix_2018[i],'Inv Date']\n"
   ]
  },
  {
   "cell_type": "code",
   "execution_count": 15,
   "metadata": {
    "collapsed": false
   },
   "outputs": [],
   "source": [
    "from datetime import datetime\n",
    "Inv_window = datetime.today()-RGM_AP_Loc['Inv Date']\n",
    "Inv_window = Inv_window.dt.days\n",
    "RGM_AP_Loc['Inv_window'] = Inv_window"
   ]
  },
  {
   "cell_type": "code",
   "execution_count": 16,
   "metadata": {
    "collapsed": true
   },
   "outputs": [],
   "source": [
    "RGM_AP_Loc['In_Inv_window'] = np.nan\n",
    "\n",
    "RGM_AP_Loc.loc[RGM_AP_Loc[RGM_AP_Loc['Inv_window']>30].index,'In_Inv_window'] ='N'\n",
    "RGM_AP_Loc.loc[RGM_AP_Loc[RGM_AP_Loc['Inv_window']<-14].index,'In_Inv_window'] ='N'\n",
    "RGM_AP_Loc.loc[RGM_AP_Loc[RGM_AP_Loc['In_Inv_window'].isnull()].index,'In_Inv_window']= 'Y'"
   ]
  },
  {
   "cell_type": "code",
   "execution_count": null,
   "metadata": {
    "collapsed": true
   },
   "outputs": [],
   "source": [
    "######  Assign 'SUBDIV_NAME' code to stores if the store belongs to 'NEIGHBORHOOD MARKET'"
   ]
  },
  {
   "cell_type": "code",
   "execution_count": 17,
   "metadata": {
    "collapsed": false
   },
   "outputs": [
    {
     "name": "stdout",
     "output_type": "stream",
     "text": [
      "[u'CENTRAL' u'NEIGHBORHOOD MARKET' u'NORTHEAST' u'SOUTHEAST' u'WEST']\n"
     ]
    }
   ],
   "source": [
    "RGM_AP_Loc['SUBDIV'] = RGM_AP_Loc['SUBDIV_NAME']\n",
    "\n",
    "print(np.unique(RGM_AP_Loc['SUBDIV_NAME']))\n",
    "\n",
    "label_pivt = pd.DataFrame((zip(RGM_AP_Loc['STATE_PROV_CODE'], RGM_AP_Loc['SUBDIV_NAME']))).drop_duplicates()\n",
    "label_pivt.columns = ['STATE_PROV_CODE','SUBDIV_NAME']\n",
    "label_pivt = pd.pivot_table(label_pivt,index = ['STATE_PROV_CODE'],\n",
    "                         values = ['SUBDIV_NAME'],\n",
    "                         aggfunc = {'SUBDIV_NAME': 'count'})\n",
    "label_pivt = label_pivt.reset_index()\n",
    "\n",
    "#------------------------------------------------------------------------------\n",
    "# check which state has 2 subdiv_name\n",
    "#------------------------------------------------------------------------------\n",
    "checking_2 = pd.pivot_table(RGM_AP_Loc,index = ['STATE_PROV_CODE','SUBDIV_NAME'],\n",
    "                         values = ['STORE_NBR'],\n",
    "                         aggfunc = {'STORE_NBR': 'count'})\n",
    "checking_2 = checking_2.reset_index()\n",
    "\n",
    "label_pivt_2 = label_pivt[label_pivt['SUBDIV_NAME']==2]\n",
    "\n",
    "\n",
    "for i in range(len(label_pivt_2['STATE_PROV_CODE'])):\n",
    "    \n",
    "    state = list(label_pivt_2['STATE_PROV_CODE'])[i]    \n",
    "    \n",
    "    bool_1 = (RGM_AP_Loc['STATE_PROV_CODE'] == state) & (RGM_AP_Loc['SUBDIV_NAME'] == 'NEIGHBORHOOD MARKET')\n",
    "    bool_2 = (RGM_AP_Loc['STATE_PROV_CODE'] == state) & (RGM_AP_Loc['SUBDIV_NAME'] != 'NEIGHBORHOOD MARKET')\n",
    "    \n",
    "    RGM_AP_Loc.iloc[RGM_AP_Loc[bool_1].index,-1] = np.unique(RGM_AP_Loc.iloc[RGM_AP_Loc[bool_2].index,-1])[0]\n",
    "\n",
    "#------------------------------------------------------------------------------\n",
    "#check which has 3 subdiv_name\n",
    "#------------------------------------------------------------------------------\n",
    "\n",
    "# which state was classified to 3 subdivisions\n",
    "label_pivt_3 = label_pivt[label_pivt['SUBDIV_NAME']==3] \n",
    "\n",
    "# in above listed states, which city was classified to 2 subdivisions\n",
    "df_sub = RGM_AP_Loc[RGM_AP_Loc['STATE_PROV_CODE'].isin(label_pivt_3['STATE_PROV_CODE'])]\n",
    "checking_3_1= pd.DataFrame((zip(df_sub['STATE_PROV_CODE'], df_sub['SUBDIV_NAME'],df_sub['CITY_NAME']))).drop_duplicates()\n",
    "checking_3_1.columns = ['STATE_PROV_CODE','SUBDIV_NAME','CITY_NAME']\n",
    "checking_3_1 = pd.pivot_table(checking_3_1,index = ['STATE_PROV_CODE','CITY_NAME'],\n",
    "                         values = ['SUBDIV_NAME'],\n",
    "                         aggfunc = {'SUBDIV_NAME': 'count'})\n",
    "checking_3_1 = checking_3_1.reset_index()\n",
    "checking_3_1 = checking_3_1[checking_3_1['SUBDIV_NAME']==2]\n",
    "\n",
    "\n",
    "for i in range(len(checking_3_1['CITY_NAME'])):\n",
    "    city  = list(checking_3_1['CITY_NAME'])[i]\n",
    "    state = list(checking_3_1[checking_3_1['CITY_NAME'] == city]['STATE_PROV_CODE'])[0]\n",
    "    \n",
    "    bool_1 = (RGM_AP_Loc['CITY_NAME'] == city ) & (RGM_AP_Loc['STATE_PROV_CODE'] == state) & (RGM_AP_Loc['SUBDIV_NAME'] == 'NEIGHBORHOOD MARKET')\n",
    "    bool_2 = (RGM_AP_Loc['CITY_NAME'] == city ) & (RGM_AP_Loc['STATE_PROV_CODE'] == state) & (RGM_AP_Loc['SUBDIV_NAME'] != 'NEIGHBORHOOD MARKET')\n",
    "\n",
    "    RGM_AP_Loc.iloc[RGM_AP_Loc[bool_1].index,-1] = np.unique(RGM_AP_Loc.iloc[RGM_AP_Loc[bool_2].index,-1])[0]\n",
    "\n",
    "    \n",
    "#------------------------------------------------------------------------------\n",
    "# After tying back the subdivision names using state names and city name \n",
    "# there are still 28 stores have 'NEIGHBORHOOD MARKET' as their subdivisions\n",
    "# assign the major subdivision name of the state to these 28 stores\n",
    "#------------------------------------------------------------------------------    \n"
   ]
  },
  {
   "cell_type": "code",
   "execution_count": 18,
   "metadata": {
    "collapsed": true
   },
   "outputs": [],
   "source": [
    "checking_4 = checking_2[checking_2['SUBDIV_NAME']!='NEIGHBORHOOD MARKET']\n",
    "for i in np.unique(RGM_AP_Loc[RGM_AP_Loc['SUBDIV'] =='NEIGHBORHOOD MARKET']['STATE_PROV_CODE']):\n",
    "    bool_1 = (RGM_AP_Loc['SUBDIV'] =='NEIGHBORHOOD MARKET') & (RGM_AP_Loc['STATE_PROV_CODE'] == i)\n",
    "    ix = RGM_AP_Loc[bool_1].index\n",
    "    \n",
    "    comp = checking_4[checking_4 ['STATE_PROV_CODE']== i]['STORE_NBR']\n",
    "    if list(comp)[0]>list(comp)[1]:\n",
    "        subdivision = checking_4.loc[comp.index[0],'SUBDIV_NAME']\n",
    "    else: subdivision = checking_4.loc[comp.index[1],'SUBDIV_NAME']\n",
    "    \n",
    "    \n",
    "    RGM_AP_Loc.loc[ix,'SUBDIV'] = subdivision"
   ]
  },
  {
   "cell_type": "code",
   "execution_count": 19,
   "metadata": {
    "collapsed": false
   },
   "outputs": [],
   "source": [
    "RGM_AP_Loc['Format'] ='Division_1'\n",
    "large_format_bool = (RGM_AP_Loc['BANNER_DESC'] == 'WM Supercenter')|(RGM_AP_Loc['BANNER_DESC'] == 'Wal-mart EF Plus')\n",
    "RGM_AP_Loc.loc[RGM_AP_Loc[large_format_bool].index,'Format'] = 'Large Format'\n",
    "NHN_bool = RGM_AP_Loc['BANNER_DESC']=='WM Neighborhood Market - SUPERMARKET'\n",
    "RGM_AP_Loc.loc[RGM_AP_Loc[NHN_bool].index,'Format'] = 'NHM Format'\n"
   ]
  },
  {
   "cell_type": "markdown",
   "metadata": {},
   "source": [
    "###### Ranking Stores across U.S - Scale: 1 - 20\n",
    "- Sales (not Sales to Index, but just Sales Volume) – 25\n",
    "- Shrink – 25\n",
    "- OSCA – 25\n",
    "- SKU vs Book – 15\n",
    "- CFF – 10"
   ]
  },
  {
   "cell_type": "markdown",
   "metadata": {},
   "source": [
    "###### Scale of each metric is 1-20\n",
    "- Sales Volume --- 25%\n",
    "- Shrink --------- 25%\n",
    "- OSCA ----------- 25%\n",
    "- SKU vs Book ---- 15%\n",
    "- CFF ------------ 10%\n",
    "\n"
   ]
  },
  {
   "cell_type": "code",
   "execution_count": 20,
   "metadata": {
    "collapsed": false
   },
   "outputs": [],
   "source": [
    "check_list =rank_type+['Ret %','Sales_Volume']"
   ]
  },
  {
   "cell_type": "code",
   "execution_count": 21,
   "metadata": {
    "collapsed": false
   },
   "outputs": [
    {
     "name": "stdout",
     "output_type": "stream",
     "text": [
      "('CFF_Rank_RGM', 108)\n",
      "('OSCA_Rank_RGM', 10)\n",
      "('Sales_Rank_RGM', 2)\n",
      "('SkuBook_Rank_RGM', 6)\n",
      "('Ret %', 11)\n",
      "('Sales_Volume', 2)\n"
     ]
    }
   ],
   "source": [
    "# check which metric contains null value\n",
    "for i in check_list:\n",
    "    print(i,sum((RGM_AP_Loc[i].isnull())))"
   ]
  },
  {
   "cell_type": "code",
   "execution_count": 22,
   "metadata": {
    "collapsed": true
   },
   "outputs": [],
   "source": [
    "# Create Columns to indicate which metrics the store does not have\n",
    "rank_value = ['CFF_pct2Plan','Sales_Volume','Ret %','OSCA_pct2Plan','SkuBook_pct2Plan']\n",
    "\n",
    "for i in rank_value:\n",
    "    RGM_AP_Loc['_'.join(['Lack',i])] = 'N'\n",
    "    RGM_AP_Loc.loc[RGM_AP_Loc[RGM_AP_Loc[i].isnull()].index,'_'.join(['Lack',i])] = 'Y'\n",
    "  "
   ]
  },
  {
   "cell_type": "code",
   "execution_count": 23,
   "metadata": {
    "collapsed": false
   },
   "outputs": [],
   "source": [
    "def rank_function(metrics):\n",
    "    df_sub = RGM_AP_Loc[RGM_AP_Loc[metrics].notnull()]\n",
    "    j = -5\n",
    "    for i in range(20):\n",
    "        j += 5\n",
    "        p = j+5\n",
    "        \n",
    "        lower_bound = np.percentile(abs(df_sub[metrics]),j)\n",
    "        upper_bound = np.percentile(abs(df_sub[metrics]),p)\n",
    "        rank_bool   = (abs(df_sub[metrics])>=lower_bound)&(abs(df_sub[metrics])<= upper_bound)\n",
    "        \n",
    "        RGM_AP_Loc.loc[df_sub[rank_bool].index,'_'.join([metrics,'Rank','US'])] = i+1\n",
    "     \n",
    "    # if the value is null, rank the store to 1    \n",
    "    RGM_AP_Loc.loc[RGM_AP_Loc[RGM_AP_Loc[metrics].isnull()].index,'_'.join([metrics,'Rank','US'])] = 1\n",
    "\n",
    "for i in rank_value:\n",
    "    rank_function(i)\n",
    "\n",
    "# consolidated rank\n",
    "W_Sales  = 0.25 *RGM_AP_Loc['Sales_Volume_Rank_US']\n",
    "W_Shrink = 0.25 *RGM_AP_Loc['Ret %_Rank_US']\n",
    "W_OSCA   = 0.25 *RGM_AP_Loc['OSCA_pct2Plan_Rank_US']\n",
    "W_CFF    = 0.10 *RGM_AP_Loc['CFF_pct2Plan_Rank_US']\n",
    "W_SkuBook   = 0.15 *RGM_AP_Loc['SkuBook_pct2Plan_Rank_US']\n",
    "RGM_AP_Loc['Consol_Rank_US'] = W_Sales + W_Shrink + W_OSCA + W_CFF + W_SkuBook \n",
    "\n",
    "                           "
   ]
  },
  {
   "cell_type": "code",
   "execution_count": 24,
   "metadata": {
    "collapsed": false
   },
   "outputs": [
    {
     "data": {
      "text/plain": [
       "\"\\nfor i in rank_value:\\n    rank_function_1('REGION_NAME',5,i)\\n\""
      ]
     },
     "execution_count": 24,
     "metadata": {},
     "output_type": "execute_result"
    }
   ],
   "source": [
    "def rank_function_1(RankType,scale,metrics):\n",
    "    distict_type = np.unique(RGM_AP_Loc[RankType])\n",
    "    for k in distict_type:\n",
    "        df_sub = RGM_AP_Loc[RGM_AP_Loc[RankType] == k]\n",
    "        df_sub = df_sub[df_sub[metrics].notnull()]\n",
    "        j = -100/scale\n",
    "        for i in range(scale):\n",
    "            j += 100/scale\n",
    "            p = j + 100/scale\n",
    "            \n",
    "            lower_bound = np.percentile(abs(df_sub[metrics]),j)\n",
    "            upper_bound = np.percentile(abs(df_sub[metrics]),p)\n",
    "            rank_bool   = (abs(df_sub[metrics])>=lower_bound)&(abs(df_sub[metrics])<= upper_bound)\n",
    "            RGM_AP_Loc.loc[df_sub[rank_bool].index,'_'.join([metrics,'Rank',RankType])] = i+1\n",
    "        \n",
    "        # if the value is null, rank the store to 1\n",
    "        RGM_AP_Loc.loc[RGM_AP_Loc[RGM_AP_Loc[metrics].isnull()].index,'_'.join([metrics,'Rank',RankType])] = 1\n",
    "\n",
    "        \n",
    "# reverse ranking method for ret and skubook        \n",
    "def rank_function_2(RankType,scale,metrics):\n",
    "    distict_type = np.unique(RGM_AP_Loc[RankType])\n",
    "    for k in distict_type:\n",
    "        df_sub = RGM_AP_Loc[RGM_AP_Loc[RankType] == k]\n",
    "        df_sub = df_sub[df_sub[metrics].notnull()]\n",
    "        j = -100/scale\n",
    "        for i in range(scale)[::-1]:\n",
    "            j += 100/scale\n",
    "            p = j + 100/scale\n",
    "            \n",
    "            lower_bound = np.percentile(abs(df_sub[metrics]),j)\n",
    "            upper_bound = np.percentile(abs(df_sub[metrics]),p)\n",
    "            rank_bool   = (abs(df_sub[metrics])>=lower_bound)&(abs(df_sub[metrics])<= upper_bound)\n",
    "            RGM_AP_Loc.loc[df_sub[rank_bool].index,'_'.join([metrics,'Rank',RankType])] = i+1\n",
    "        \n",
    "        # if the value is null, rank the store to 1\n",
    "        RGM_AP_Loc.loc[RGM_AP_Loc[RGM_AP_Loc[metrics].isnull()].index,'_'.join([metrics,'Rank',RankType])] = 1\n",
    "        \n",
    "        \n",
    "['CFF_pct2Plan','Sales_Volume','Ret %','OSCA_pct2Plan','SkuBook_pct2Plan']        \n",
    "        \n",
    "        \n",
    "for i in ['CFF_pct2Plan','Sales_Volume','OSCA_pct2Plan']:\n",
    "    rank_function_1('Format',20,i)\n",
    "\n",
    "for i in ['Ret %','SkuBook_pct2Plan']:\n",
    "    rank_function_2('Format',20,i)\n",
    "    \n",
    "# consolidated rank\n",
    "W_Sales  = 0.25 *RGM_AP_Loc['Sales_Volume_Rank_Format']\n",
    "W_Shrink = 0.25 *RGM_AP_Loc['Ret %_Rank_Format']\n",
    "W_OSCA   = 0.25 *RGM_AP_Loc['OSCA_pct2Plan_Rank_Format']\n",
    "W_CFF    = 0.10 *RGM_AP_Loc['CFF_pct2Plan_Rank_Format']\n",
    "W_SkuBook   = 0.15 *RGM_AP_Loc['SkuBook_pct2Plan_Rank_Format']\n",
    "RGM_AP_Loc['Consol_Rank_Format'] = W_Sales + W_Shrink + W_OSCA + W_CFF + W_SkuBook \n",
    "    \n",
    "'''\n",
    "for i in rank_value:\n",
    "    rank_function_1('REGION_NAME',5,i)\n",
    "'''\n"
   ]
  },
  {
   "cell_type": "code",
   "execution_count": 25,
   "metadata": {
    "collapsed": false
   },
   "outputs": [
    {
     "data": {
      "image/png": "[encoded data removed]",
      "text/plain": [
       "<matplotlib.figure.Figure at 0xb74fe80>"
      ]
     },
     "metadata": {},
     "output_type": "display_data"
    },
    {
     "data": {
      "image/png": "[encoded data removed]",
      "text/plain": [
       "<matplotlib.figure.Figure at 0xdcdf588>"
      ]
     },
     "metadata": {},
     "output_type": "display_data"
    },
    {
     "data": {
      "image/png": "[encoded data removed]",
      "text/plain": [
       "<matplotlib.figure.Figure at 0x97c8ac8>"
      ]
     },
     "metadata": {},
     "output_type": "display_data"
    }
   ],
   "source": [
    "# Create Bucket Function\n",
    "def bucket(total_rank,df):\n",
    "    avg = np.mean(df[total_rank])\n",
    "    std = np.std(df[total_rank])\n",
    "    \n",
    "    df_ix = df.index\n",
    "    high_ix = RGM_AP_Loc[RGM_AP_Loc[total_rank] <= avg-2*std].index\n",
    "    high_ix = [i for i in high_ix if i in df_ix]\n",
    "    \n",
    "    medium_h_ix = RGM_AP_Loc[RGM_AP_Loc[total_rank] <= avg-std].index\n",
    "    medium_h_ix = [i for i in medium_h_ix if i in df_ix]\n",
    "    \n",
    "    \n",
    "    medium_ix = RGM_AP_Loc[RGM_AP_Loc[total_rank] <= avg+std].index\n",
    "    medium_ix = [i for i in medium_ix if i in df_ix]\n",
    "    \n",
    "    \n",
    "    medium_low_ix = RGM_AP_Loc[RGM_AP_Loc[total_rank] <= avg+2*std].index\n",
    "    medium_low_ix = [i for i in medium_low_ix if i in df_ix]\n",
    "    \n",
    "    low_ix = RGM_AP_Loc[RGM_AP_Loc[total_rank] <= max(df[total_rank])].index\n",
    "    low_ix = [i for i in low_ix if i in df_ix]\n",
    "    \n",
    "    \n",
    "    low_ix = set(low_ix) - set(medium_low_ix)\n",
    "    medium_low_ix = set(medium_low_ix) - set(medium_ix)\n",
    "    medium_ix  = set(medium_ix) - set(medium_h_ix)\n",
    "    medium_h_ix = set(medium_h_ix) - set(high_ix)\n",
    "    \n",
    "    #print(len(df_ix))\n",
    "    #print(len(high_ix)+len(medium_h_ix)+len(medium_ix)+len(medium_low_ix)+len(low_ix))\n",
    "    \n",
    "    bk_name = '_'.join(['Bucket',total_rank.split('_')[-1]])\n",
    "    RGM_AP_Loc.loc[low_ix,bk_name ] ='Top'\n",
    "    RGM_AP_Loc.loc[medium_low_ix,bk_name ] ='Medium Top'\n",
    "    RGM_AP_Loc.loc[medium_ix ,bk_name] ='Medium'\n",
    "    RGM_AP_Loc.loc[medium_h_ix ,bk_name ] ='Medium Bottom'\n",
    "    RGM_AP_Loc.loc[high_ix,bk_name] ='Bottom' \n",
    "    \n",
    "    pd.DataFrame(RGM_AP_Loc[total_rank]).plot(kind='density')\n",
    "    #plt.xlabel('_'.join([bk_name,df['Format'][0]]))\n",
    "    plt.ylabel('Probability')\n",
    "    plt.title(total_rank)\n",
    "    #\n",
    "    \n",
    "    plt.axis([0, 20, 0, 0.18])\n",
    "    plt.grid(True)\n",
    "\n",
    "\n",
    "    plt.axvline(x=avg,color='k', linestyle='-')\n",
    "    plt.axvline(x=avg-2*std,color='brown', linestyle='--')\n",
    "    plt.axvline(x=avg-std,color='r', linestyle='--')\n",
    "    plt.axvline(x=avg+std,color='limegreen', linestyle='--')\n",
    "    plt.axvline(x=avg+2*std,color='green', linestyle='--')\n",
    "    \n",
    "    plt.text(10, .13, '_'.join(['Avg',str(round(avg,2))]))\n",
    "    plt.text(8, .11, '_'.join(['Variation',str(round(std,2))]))\n",
    "    plt.show()\n",
    "    \n",
    "\n",
    "    \n",
    "df_list = [RGM_AP_Loc[RGM_AP_Loc['Format']==i] for i in RGM_AP_Loc['Format'].unique()]\n",
    "\n",
    "\n",
    "#bucket('Consol_Rank_US',RGM_AP_Loc)\n",
    "bucket('Consol_Rank_Format',df_list[0])\n",
    "bucket('Consol_Rank_Format',df_list[1])\n",
    "bucket('Consol_Rank_Format',df_list[2])   \n",
    "\n"
   ]
  },
  {
   "cell_type": "markdown",
   "metadata": {},
   "source": [
    "###### Ranking Stores across Subdivsions - Scale: 1 - 10\n",
    "###### Ranking Stores across Regions - Scale: 1 - 5"
   ]
  },
  {
   "cell_type": "code",
   "execution_count": 26,
   "metadata": {
    "collapsed": false
   },
   "outputs": [],
   "source": [
    "RGM_AP_Loc.to_excel('CombineAssurance_US.xlsx', sheet_name='sheet1', index=False)"
   ]
  },
  {
   "cell_type": "markdown",
   "metadata": {},
   "source": [
    "###### Change data to long format for visualization"
   ]
  },
  {
   "cell_type": "code",
   "execution_count": null,
   "metadata": {
    "collapsed": false
   },
   "outputs": [],
   "source": [
    "def wide2long(rank_set):\n",
    "    df_melt = pd.melt(RGM_AP_Loc, id_vars=['STORE_NBR'], value_vars=rank_set).sort_values(by=['STORE_NBR'])\n",
    "    df_long = pd.merge(df_melt,RGM_AP_Loc[['STORE_NBR']+scores+rank_value+store_info],how = 'left')\n",
    "    return df_long\n",
    "\n",
    "rank_value = ['CFF_pct2Plan','Sales_Volume','Ret %','Shrink','OSCA_pct2Plan','SkuBook_pct2Plan']\n",
    "scores = [col for col in RGM_AP_Loc.columns if 'Consol' in col]\n",
    "\n",
    "store_info = ['OPEN_DATE','BANNER_DESC','Format','CITY_NAME',\n",
    "              'STATE_PROV_CODE','SUBDIV_NAME','SUBDIV','REGION_NAME',\n",
    "              'MARKET_AREA_NBR','LATITUDE_DGR','LONGITUDE_DGR',\n",
    "              'New_Store','Close_Store','Fuel','remodel','Inv Date',\n",
    "              'Inv_window','In_Inv_window',\n",
    "              'Lack_Ret %','TY_LY','Lack_CFF_pct2Plan','Lack_Sales_Volume',\n",
    "              'Lack_OSCA_pct2Plan','Lack_SkuBook_pct2Plan','Bucket_Format']\n",
    "\n",
    "#rank_us = list(set([col for col in RGM_AP_Loc.columns if col.endswith('_Rank')])- set(scores))\n",
    "#rank_subdiv = list(set([col for col in RGM_AP_Loc.columns if col.endswith('_Rank_SUBDIV')])- set(scores))\n",
    "#rank_region = list(set([col for col in RGM_AP_Loc.columns if col.endswith('_Rank_REGION_NAME')])- set(scores))\n",
    "\n",
    "rank_format = list(set([col for col in RGM_AP_Loc.columns if col.endswith('_Rank_Format')])- set(scores))\n",
    "CombineAssurance_Format_long = wide2long(rank_format)\n",
    "\n",
    "\n",
    "#CombineAssurance_US_long = wide2long(rank_us)\n",
    "#CombineAssurance_subdiv_long = wide2long(rank_subdiv)\n",
    "#CombineAssurance_region_long = wide2long(rank_region)\n",
    "\n",
    "#CombineAssurance_US_long.to_excel('CombineAssurance_US_long.xlsx', sheet_name='sheet1', index=False)\n",
    "#CombineAssurance_subdiv_long.to_excel('CombineAssurance_subdiv_long.xlsx', sheet_name='sheet1', index=False)\n",
    "#CombineAssurance_region_long.to_excel('CombineAssurance_region_long.xlsx', sheet_name='sheet1', index=False)"
   ]
  },
  {
   "cell_type": "code",
   "execution_count": null,
   "metadata": {
    "collapsed": false
   },
   "outputs": [],
   "source": [
    "# Create X and Y\n",
    "import math\n",
    "var_list = CombineAssurance_Format_long['variable'].unique()\n",
    "for i in range(len(var_list)):\n",
    "    var_bool = CombineAssurance_Format_long['variable'] == var_list[i]\n",
    "    var_ix   = CombineAssurance_Format_long[var_bool].index\n",
    "    \n",
    "    project_x = math.sin(i*2*math.pi/5)\n",
    "    project_y = math.cos(i*2*math.pi/5)\n",
    "    \n",
    "    CombineAssurance_Format_long.loc[var_ix,'X'] = CombineAssurance_Format_long['value']*project_x\n",
    "    CombineAssurance_Format_long.loc[var_ix,'Y'] = CombineAssurance_Format_long['value']*project_y\n",
    "\n",
    "    \n",
    "CombineAssurance_Format_long.to_excel('CombineAssurance_Format_long.xlsx', sheet_name='sheet1', index=False)\n"
   ]
  },
  {
   "cell_type": "markdown",
   "metadata": {},
   "source": [
    "###### Store Distances (Not Finished)"
   ]
  },
  {
   "cell_type": "code",
   "execution_count": null,
   "metadata": {
    "collapsed": true
   },
   "outputs": [],
   "source": [
    "Store_LL = RGM_AP_Loc[['STORE_NBR','STATE_PROV_CODE','LATITUDE_DGR','LONGITUDE_DGR']]\n",
    "store_count = pd.pivot_table(RGM_AP_Loc,index = ['STATE_PROV_CODE'],\n",
    "                         values = ['STORE_NBR'],\n",
    "                         aggfunc = {'STORE_NBR': 'count'})\n",
    "store_count = store_count.reset_index()"
   ]
  },
  {
   "cell_type": "code",
   "execution_count": null,
   "metadata": {
    "collapsed": false
   },
   "outputs": [],
   "source": [
    "# creat empty dataframes to fill data points\n",
    "# specify column names\n",
    "cols= ['STORE_NBR_1','STATE_PROV_CODE','STORE_NBR_2','LATITUDE_DGR_1','LONGITUDE_DGR_1','LATITUDE_DGR_2','LONGITUDE_DGR_2']\n",
    "store_dist_all = pd.DataFrame(columns=cols)\n",
    "\n",
    "for i in np.unique(Store_LL['STATE_PROV_CODE']):\n",
    "    sub_df = Store_LL[Store_LL['STATE_PROV_CODE'] == i]\n",
    "    n_row = 0\n",
    "    for j in range(len(sub_df)-1):\n",
    "        n_row = n_row+j+1 # specify number of rows\n",
    "    store_dist = pd.DataFrame(np.nan, index=range(n_row), columns=cols) \n",
    "      \n",
    "    # fill in the empty data frame column by column  \n",
    "    store_dist['STATE_PROV_CODE'] = i    \n",
    "    repe_loc = []\n",
    "    fill_loc = []    \n",
    "    rev_list = range(len(sub_df))[::-1] # reverse elements in the list\n",
    "    for k in range(len(rev_list)):\n",
    "        if len(repe_loc) == 0:\n",
    "            connect_point = 0\n",
    "        else: connect_point = repe_loc[-1]+1\n",
    "        \n",
    "        repe_loc = [m + connect_point for m in range(rev_list[k])]\n",
    "        fill_loc = [n+k+1 for n in range(rev_list[k])] # k+1,rev_list[k]\n",
    "    \n",
    "        store_dist.iloc[repe_loc,0] = sub_df.iloc[k,0]\n",
    "        store_dist.iloc[repe_loc,3] = sub_df.iloc[k,2]\n",
    "        store_dist.iloc[repe_loc,4] = sub_df.iloc[k,3]\n",
    "    \n",
    "        store_dist.iloc[repe_loc,2] = list(sub_df.iloc[fill_loc,0])\n",
    "        store_dist.iloc[repe_loc,5] = list(sub_df.iloc[fill_loc,2])\n",
    "        store_dist.iloc[repe_loc,6] = list(sub_df.iloc[fill_loc,3])\n",
    "    \n",
    "    store_dist_all = pd.concat([store_dist_all, store_dist])      \n"
   ]
  },
  {
   "cell_type": "code",
   "execution_count": null,
   "metadata": {
    "collapsed": false
   },
   "outputs": [],
   "source": [
    "# Store 7809 does not have longitude and latitude records\n",
    "store_dist_all = store_dist_all[store_dist_all['STORE_NBR_2']!=7809]"
   ]
  },
  {
   "cell_type": "code",
   "execution_count": null,
   "metadata": {
    "collapsed": true
   },
   "outputs": [],
   "source": [
    "store_dist_all.to_excel('store_dist_all.xlsx', sheet_name='sheet1', index=False)"
   ]
  }
 ],
 "metadata": {
  "anaconda-cloud": {},
  "kernelspec": {
   "display_name": "Python [Root]",
   "language": "python",
   "name": "Python [Root]"
  },
  "language_info": {
   "codemirror_mode": {
    "name": "ipython",
    "version": 2
   },
   "file_extension": ".py",
   "mimetype": "text/x-python",
   "name": "python",
   "nbconvert_exporter": "python",
   "pygments_lexer": "ipython2",
   "version": "2.7.12"
  }
 },
 "nbformat": 4,
 "nbformat_minor": 2
}
